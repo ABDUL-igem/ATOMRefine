{
  "nbformat": 4,
  "nbformat_minor": 0,
  "metadata": {
    "colab": {
      "provenance": [],
      "private_outputs": true
    },
    "kernelspec": {
      "name": "python3",
      "display_name": "Python 3"
    },
    "language_info": {
      "name": "python"
    }
  },
  "cells": [
    {
      "cell_type": "code",
      "execution_count": null,
      "metadata": {
        "id": "PQqlkdrv5nox"
      },
      "outputs": [],
      "source": [
        "from google.colab import drive\n",
        "drive.mount('/content/drive')\n",
        "!git clone https://github.com/BioinfoMachineLearning/ATOMRefine.git\n",
        "%cd ATOMRefine"
      ]
    },
    {
      "cell_type": "code",
      "source": [],
      "metadata": {
        "id": "8enRZsd63jAU"
      },
      "execution_count": null,
      "outputs": []
    },
    {
      "cell_type": "code",
      "source": [
        "# --- 1. Install PyTorch (with CUDA 11.8) ---\n",
        "!pip install torch==2.1.0+cu118 torchvision==0.16.0+cu118 torchaudio==2.1.0 --index-url https://download.pytorch.org/whl/cu118\n",
        "\n",
        "# --- 2. Install compatible numpy version ---\n",
        "!pip install numpy==1.24.4\n",
        "\n",
        "# --- 3. Install PyTorch Geometric dependencies (for torch 2.1.0 + cu118) ---\n",
        "!pip install pyg-lib==0.2.0+pt21cu118 \\\n",
        "    torch-scatter==2.1.2+pt21cu118 \\\n",
        "    torch-sparse==0.6.18+pt21cu118 \\\n",
        "    torch-cluster==1.6.1+pt21cu118 \\\n",
        "    torch-spline-conv==1.2.2+pt21cu118 \\\n",
        "    -f https://data.pyg.org/whl/torch-2.1.0+cu118.html\n",
        "\n",
        "# --- 4. Install torch-geometric ---\n",
        "!pip install torch-geometric==2.4.0\n",
        "\n",
        "# --- 5. (Optional) DGL for CUDA 11.8 (if needed) ---\n",
        "# If you need DGL, use the correct CUDA version for your torch/CUDA setup.\n",
        "# DGL does not always have wheels for every CUDA version, but cu118 is available.\n",
        "!pip install dgl-cu118 -f https://data.dgl.ai/wheels/repo.html\n",
        "\n",
        "# --- 6. Bioinformatics and Utilities ---\n",
        "!pip install biopython==1.78 biopandas tqdm scipy torchdata\n",
        "\n",
        "# --- 7. PyTorch Lightning (ensure compatibility with torch 2.1.x) ---\n",
        "!pip install pytorch-lightning==2.1.3\n",
        "\n",
        "# --- 8. Clone ATOMRefine and set up ---\n",
        "from google.colab import drive\n",
        "drive.mount('/content/drive')\n",
        "!git clone https://github.com/BioinfoMachineLearning/ATOMRefine.git\n",
        "%cd ATOMRefine\n",
        "\n",
        "# --- 9. Confirm correct installations ---\n",
        "import torch\n",
        "print(\"PyTorch version:\", torch.__version__)\n",
        "print(\"CUDA available:\", torch.cuda.is_available())\n",
        "print(\"CUDA version:\", torch.version.cuda)\n",
        "print(\"Device:\", torch.cuda.get_device_name(0) if torch.cuda.is_available() else \"CPU only\")\n",
        "\n",
        "# import torch_geometric\n",
        "# print(\"PyG version:\", torch_geometric.__version__)\n",
        "\n",
        "# from torch_geometric.data import Data\n",
        "# from torch_geometric.nn import GCNConv\n",
        "\n",
        "# # Quick sanity test for PyG:\n",
        "# edge_index = torch.tensor([[0, 1], [1, 2]], dtype=torch.long)\n",
        "# edge_index = torch.cat([edge_index, edge_index.flip(0)], dim=1)  # make undirected\n",
        "# x = torch.tensor([[1.0], [2.0], [3.0]], dtype=torch.float)\n",
        "# data = Data(x=x, edge_index=edge_index)\n",
        "# conv = GCNConv(1, 2)\n",
        "# out = conv(data.x, data.edge_index)\n",
        "# print(\"Output shape:\", out.shape)\n",
        "# print(\"Output:\", out)\n",
        "\n",
        "# # --- 10. List files to confirm setup ---\n",
        "# import os\n",
        "# cwd = os.getcwd()\n",
        "# print(\"Current directory:\", cwd)\n",
        "# print(\"Files and folders in current directory:\", os.listdir(cwd))\n",
        "\n",
        "# # --- 11. Run your refinement script ---\n",
        "# init_pdb = '/content/ATOMRefine/Input_pdb/p37_IGV_SEPreplaced_pdbFH.pdb'\n",
        "# target_id = 'refined_p37IGV'\n",
        "# seq_length = 373\n",
        "# outdir = 'output_refined_p37IGV'\n",
        "\n",
        "# os.makedirs(outdir, exist_ok=True)\n",
        "# assert os.path.isfile(init_pdb), f\"Input PDB file not found: {init_pdb}\"\n",
        "\n",
        "# !bash refine.sh {init_pdb} {target_id} {seq_length} {outdir}"
      ],
      "metadata": {
        "id": "RYZHRMBm6prH"
      },
      "execution_count": null,
      "outputs": []
    },
    {
      "cell_type": "code",
      "source": [
        "!pip uninstall -y numpy\n",
        "!pip install numpy==1.24.4 --force-reinstall"
      ],
      "metadata": {
        "id": "gCfcqk_6_8OP"
      },
      "execution_count": null,
      "outputs": []
    },
    {
      "cell_type": "code",
      "source": [],
      "metadata": {
        "id": "DZLHyqUhABGT"
      },
      "execution_count": null,
      "outputs": []
    },
    {
      "cell_type": "code",
      "source": [
        "import torch_geometric\n",
        "print(\"PyG version:\", torch_geometric.__version__)\n",
        "\n",
        "from torch_geometric.data import Data\n",
        "from torch_geometric.nn import GCNConv\n",
        "\n",
        "# Quick sanity test for PyG:\n",
        "edge_index = torch.tensor([[0, 1], [1, 2]], dtype=torch.long)\n",
        "edge_index = torch.cat([edge_index, edge_index.flip(0)], dim=1)  # make undirected\n",
        "x = torch.tensor([[1.0], [2.0], [3.0]], dtype=torch.float)\n",
        "data = Data(x=x, edge_index=edge_index)\n",
        "conv = GCNConv(1, 2)\n",
        "out = conv(data.x, data.edge_index)\n",
        "print(\"Output shape:\", out.shape)\n",
        "print(\"Output:\", out)\n",
        "\n",
        "# --- 10. List files to confirm setup ---\n",
        "import os\n",
        "cwd = os.getcwd()\n",
        "print(\"Current directory:\", cwd)\n",
        "print(\"Files and folders in current directory:\", os.listdir(cwd))\n",
        "\n",
        "# --- 11. Run your refinement script ---\n",
        "init_pdb = '/content/ATOMRefine/Input_pdb/p37_IGV_SEPreplaced_pdbFH.pdb'\n",
        "target_id = 'refined_p37IGV'\n",
        "seq_length = 373\n",
        "outdir = 'output_refined_p37IGV'\n",
        "\n",
        "os.makedirs(outdir, exist_ok=True)\n",
        "assert os.path.isfile(init_pdb), f\"Input PDB file not found: {init_pdb}\"\n",
        "\n",
        "!bash refine.sh {init_pdb} {target_id} {seq_length} {outdir}"
      ],
      "metadata": {
        "id": "1vha3KgV_yG6"
      },
      "execution_count": null,
      "outputs": []
    },
    {
      "cell_type": "code",
      "source": [
        "# 1. First, clean up the environment\n",
        "!pip uninstall -y numpy torch torchvision torchaudio pytorch-lightning torch-geometric\n",
        "!pip cache purge\n",
        "\n",
        "# 2. Install PyTorch with CUDA 11.8\n",
        "!pip install torch==2.1.0+cu118 torchvision==0.16.0+cu118 torchaudio==2.1.0 --index-url https://download.pytorch.org/whl/cu118\n",
        "\n",
        "# 3. Install numpy 1.26.0 (to satisfy tensorflow and other dependencies)\n",
        "!pip install numpy==1.26.0\n",
        "\n",
        "# 4. Install PyG with correct versions\n",
        "!pip install torch-scatter torch-sparse torch-cluster torch-spline-conv -f https://data.pyg.org/whl/torch-2.1.0+cu118.html\n",
        "!pip install pyg-lib -f https://data.pyg.org/whl/torch-2.1.0+cu118.html\n",
        "!pip install torch-geometric==2.4.0\n",
        "\n",
        "# 5. Install DGL with correct package name\n",
        "!pip install dgl -f https://data.dgl.ai/wheels/cu118/repo.html\n",
        "\n",
        "# 6. Install other dependencies\n",
        "!pip install biopython==1.78 biopandas pytorch-lightning==2.1.3\n",
        "\n",
        "# 7. Print \"Please restart runtime\" message\n",
        "print(\"\\nIMPORTANT: Please restart the runtime now!\")"
      ],
      "metadata": {
        "id": "yxvz_FP8q2PA"
      },
      "execution_count": null,
      "outputs": []
    },
    {
      "cell_type": "code",
      "source": [
        "# Test imports and CUDA\n",
        "import torch\n",
        "import torch_geometric\n",
        "from torch_geometric.data import Data\n",
        "from torch_geometric.nn import GCNConv\n",
        "import dgl\n",
        "\n",
        "# Print versions and CUDA info\n",
        "print(f\"PyTorch version: {torch.__version__}\")\n",
        "print(f\"CUDA available: {torch.cuda.is_available()}\")\n",
        "print(f\"CUDA version: {torch.version.cuda}\")\n",
        "print(f\"PyG version: {torch_geometric.__version__}\")\n",
        "print(f\"DGL version: {dgl.__version__}\")\n",
        "\n",
        "# Test PyG functionality\n",
        "edge_index = torch.tensor([[0, 1], [1, 2]], dtype=torch.long)\n",
        "edge_index = torch.cat([edge_index, edge_index.flip(0)], dim=1)  # make undirected\n",
        "x = torch.tensor([[1.0], [2.0], [3.0]], dtype=torch.float)\n",
        "\n",
        "data = Data(x=x, edge_index=edge_index)\n",
        "conv = GCNConv(1, 2)\n",
        "out = conv(data.x, data.edge_index)\n",
        "\n",
        "print(\"\\nTest output shape:\", out.shape)"
      ],
      "metadata": {
        "id": "C6JU_WqerAKK"
      },
      "execution_count": null,
      "outputs": []
    },
    {
      "cell_type": "code",
      "source": [
        "# 1. First, uninstall all related packages\n",
        "!pip uninstall -y numpy torch torchvision torchaudio pytorch-lightning torch-geometric dgl torchdata\n",
        "!pip cache purge\n",
        "\n",
        "# 2. Install PyTorch CPU and torchdata first\n",
        "!pip install torch==2.0.1+cpu torchvision==0.15.2+cpu torchaudio==2.0.2+cpu --index-url https://download.pytorch.org/whl/cpu\n",
        "!pip install torchdata==0.6.1\n",
        "# 3. Install numpy with compatible version\n",
        "!pip install numpy==1.26.0\n",
        "\n",
        "# 4. Install PyG for CPU\n",
        "!pip install torch-geometric==2.4.0\n",
        "!pip install pyg-lib torch-scatter torch-sparse torch-cluster torch-spline-conv -f https://data.pyg.org/whl/torch-2.0.1+cpu.html\n",
        "\n",
        "# 5. Install DGL CPU version\n",
        "!pip install dgl==1.1.3\n",
        "\n",
        "# 6. Install other dependencies\n",
        "!pip install biopython==1.78 biopandas\n",
        "\n",
        "print(\"\\nIMPORTANT: Please restart the runtime now!\")\n",
        "\n",
        "# # After restarting, run this test code:\n",
        "# import os\n",
        "# os.environ['CUDA_VISIBLE_DEVICES'] = ''  # Disable GPU\n",
        "\n",
        "# import torch\n",
        "# import torch_geometric\n",
        "# from torch_geometric.data import Data\n",
        "# from torch_geometric.nn import GCNConv\n",
        "# import dgl\n",
        "\n",
        "# # Print versions\n",
        "# print(f\"PyTorch version: {torch.__version__}\")\n",
        "# print(f\"PyG version: {torch_geometric.__version__}\")\n",
        "# print(f\"DGL version: {dgl.__version__}\")\n",
        "# print(f\"Device being used: {torch.device('cpu')}\")\n",
        "\n",
        "# # Basic test\n",
        "# edge_index = torch.tensor([[0, 1], [1, 2]], dtype=torch.long)\n",
        "# edge_index = torch.cat([edge_index, edge_index.flip(0)], dim=1)\n",
        "# x = torch.tensor([[1.0], [2.0], [3.0]], dtype=torch.float)\n",
        "\n",
        "# data = Data(x=x, edge_index=edge_index)\n",
        "# conv = GCNConv(1, 2)\n",
        "# out = conv(data.x, data.edge_index)\n",
        "\n",
        "# print(\"\\nTest output shape:\", out.shape)\n",
        "\n",
        "# # Test DGL\n",
        "# import dgl.data\n",
        "# dataset = dgl.data.CoraGraphDataset()\n",
        "# g = dataset[0]\n",
        "# print(\"\\nDGL test graph:\", g)"
      ],
      "metadata": {
        "id": "34bdD3juKown"
      },
      "execution_count": null,
      "outputs": []
    },
    {
      "cell_type": "code",
      "source": [
        "# After restarting, run this test code:\n",
        "import os\n",
        "os.environ['CUDA_VISIBLE_DEVICES'] = ''  # Disable GPU\n",
        "\n",
        "import torch\n",
        "import torch_geometric\n",
        "from torch_geometric.data import Data\n",
        "from torch_geometric.nn import GCNConv\n",
        "import dgl\n",
        "\n",
        "# Print versions\n",
        "print(f\"PyTorch version: {torch.__version__}\")\n",
        "print(f\"PyG version: {torch_geometric.__version__}\")\n",
        "print(f\"DGL version: {dgl.__version__}\")\n",
        "print(f\"Device being used: {torch.device('cpu')}\")\n",
        "\n",
        "# Basic test\n",
        "edge_index = torch.tensor([[0, 1], [1, 2]], dtype=torch.long)\n",
        "edge_index = torch.cat([edge_index, edge_index.flip(0)], dim=1)\n",
        "x = torch.tensor([[1.0], [2.0], [3.0]], dtype=torch.float)\n",
        "\n",
        "data = Data(x=x, edge_index=edge_index)\n",
        "conv = GCNConv(1, 2)\n",
        "out = conv(data.x, data.edge_index)\n",
        "\n",
        "print(\"\\nTest output shape:\", out.shape)\n",
        "\n",
        "# Test DGL\n",
        "import dgl.data\n",
        "dataset = dgl.data.CoraGraphDataset()\n",
        "g = dataset[0]\n",
        "print(\"\\nDGL test graph:\", g)"
      ],
      "metadata": {
        "id": "Wawf01gULgJ6"
      },
      "execution_count": null,
      "outputs": []
    },
    {
      "cell_type": "code",
      "source": [
        "# import os\n",
        "# from Bio import PDB\n",
        "# import shutil\n",
        "\n",
        "# def prepare_atomrefine_run(pdb_file):\n",
        "#     \"\"\"Prepare ATOMRefine refinement for a PDB file\"\"\"\n",
        "#     # 1. Get PDB info\n",
        "#     info = get_pdb_info(pdb_file)\n",
        "\n",
        "#     # 2. Create output directory\n",
        "#     os.makedirs('output', exist_ok=True)\n",
        "\n",
        "#     # 3. Copy PDB file to example directory\n",
        "#     if not os.path.exists('example'):\n",
        "#         os.makedirs('example')\n",
        "#     target_pdb = os.path.join('example', os.path.basename(pdb_file))\n",
        "#     shutil.copy(pdb_file, target_pdb)\n",
        "\n",
        "#     # 4. Create refinement command\n",
        "#     target_id = os.path.splitext(os.path.basename(pdb_file))[0]\n",
        "#     cmd = f\"sh refine.sh {target_pdb} {target_id} {info['seq_length']} output\"\n",
        "\n",
        "#     print(f\"ATOMRefine Setup Complete at {os.getcwd()}:\")\n",
        "#     print(f\"PDB File: {target_pdb}\")\n",
        "#     print(f\"Sequence Length: {info['seq_length']}\")\n",
        "#     print(f\"Target ID: {target_id}\")\n",
        "#     print(f\"Output Directory: output/\")\n",
        "#     print(\"\\nTo start refinement, run:\")\n",
        "#     print(cmd)\n",
        "\n",
        "#     return cmd\n",
        "\n",
        "# def get_pdb_info(pdb_file):\n",
        "#     \"\"\"Get sequence length and other info from PDB file\"\"\"\n",
        "#     parser = PDB.PDBParser(QUIET=True)\n",
        "#     structure = parser.get_structure('protein', pdb_file)\n",
        "\n",
        "#     # Count residues\n",
        "#     residue_count = 0\n",
        "#     for model in structure:\n",
        "#         for chain in model:\n",
        "#             residue_count += len([r for r in chain if PDB.is_aa(r)])\n",
        "\n",
        "#     return {\n",
        "#         'seq_length': residue_count,\n",
        "#         'filename': os.path.basename(pdb_file)\n",
        "#     }\n",
        "\n",
        "# # Usage example:\n",
        "# if __name__ == \"__main__\":\n",
        "#     # Replace with your PDB file path\n",
        "#     pdb_file = \"/content/input/p37_IGV_SEPreplaced_pdbFH.pdb\"\n",
        "\n",
        "#     # Check if file exists\n",
        "#     if not os.path.exists(pdb_file):\n",
        "#         print(f\"Error: PDB file {pdb_file} not found!\")\n",
        "#     else:\n",
        "#         cmd = prepare_atomrefine_run(pdb_file)"
      ],
      "metadata": {
        "id": "A7e1AzT9NiE8"
      },
      "execution_count": null,
      "outputs": []
    },
    {
      "cell_type": "code",
      "source": [
        "!pip install pytorch-lightning==2.0.1\n"
      ],
      "metadata": {
        "id": "jNOgEZo4UDl5"
      },
      "execution_count": null,
      "outputs": []
    },
    {
      "cell_type": "code",
      "source": [
        "!pip install pdbfixer\n"
      ],
      "metadata": {
        "id": "NSJ_Du_cUCb-"
      },
      "execution_count": null,
      "outputs": []
    },
    {
      "cell_type": "code",
      "source": [
        "# 1. Install conda\n",
        "!wget https://repo.anaconda.com/miniconda/Miniconda3-latest-Linux-x86_64.sh\n",
        "!bash Miniconda3-latest-Linux-x86_64.sh -b -f -p /usr/local\n",
        "!conda install -c conda-forge pdbfixer -y\n",
        "\n",
        "# If above doesn't work, try this alternative:\n",
        "!conda install -c omnia pdbfixer -y"
      ],
      "metadata": {
        "collapsed": true,
        "id": "BBuXTWK2WEaj"
      },
      "execution_count": null,
      "outputs": []
    },
    {
      "cell_type": "code",
      "source": [
        "# Create a corrected version of the file\n",
        "with open('/content/ATOMRefine/amber/residue_constants.py', 'r') as file:\n",
        "    content = file.read()\n",
        "\n",
        "# Replace the deprecated np.int with np.int32\n",
        "content = content.replace('dtype=np.int', 'dtype=np.int32')\n",
        "\n",
        "# Save the corrected version\n",
        "with open('/content/ATOMRefine/amber/residue_constants.py', 'w') as file:\n",
        "    file.write(content)"
      ],
      "metadata": {
        "id": "Zx7EGkQQTW1a"
      },
      "execution_count": null,
      "outputs": []
    },
    {
      "cell_type": "code",
      "source": [
        "# Fix the typo in residue_constants.py\n",
        "with open('/content/ATOMRefine/amber/residue_constants.py', 'r') as file:\n",
        "    content = file.read()\n",
        "\n",
        "# Replace int3232 with int32\n",
        "content = content.replace('dtype=np.int3232', 'dtype=np.int32')\n",
        "\n",
        "# Save the corrected version\n",
        "with open('/content/ATOMRefine/amber/residue_constants.py', 'w') as file:\n",
        "    file.write(content)"
      ],
      "metadata": {
        "id": "jVBcpzDhTucS"
      },
      "execution_count": null,
      "outputs": []
    },
    {
      "cell_type": "code",
      "source": [
        "# 1. Install PyTorch CPU version compatible with Python 3.13\n",
        "!pip install --upgrade torch --index-url https://download.pytorch.org/whl/cpu\n",
        "\n",
        "# 2. Install DGL from source (since pip install isn't working)\n",
        "!git clone --recurse-submodules https://github.com/dmlc/dgl.git\n",
        "%cd dgl\n",
        "!pip install -e .\n",
        "%cd ..\n",
        "\n",
        "# 3. Verify DGL installation\n",
        "import dgl\n",
        "print(f\"DGL version: {dgl.__version__}\")\n",
        "\n",
        "# 4. Install other dependencies\n",
        "!pip install networkx scipy"
      ],
      "metadata": {
        "id": "hrElEbAkZN7A"
      },
      "execution_count": null,
      "outputs": []
    },
    {
      "cell_type": "code",
      "source": [
        "# Alternative: Install using specific wheel file\n",
        "!pip install --no-index dgl -f https://data.dgl.ai/wheels/repo.html"
      ],
      "metadata": {
        "id": "qwNUCzDQp0BZ"
      },
      "execution_count": null,
      "outputs": []
    },
    {
      "cell_type": "code",
      "source": [
        "# 1. Uninstall existing DGL\n",
        "!pip uninstall -y dgl\n",
        "\n",
        "# 2. Install required dependencies\n",
        "!pip install numpy scipy networkx\n",
        "\n",
        "# 3. Install DGL with all components\n",
        "!pip install dgl[pytorch] -f https://data.dgl.ai/wheels/repo.html\n",
        "\n",
        "# 4. Install specific version of DGL nn package\n",
        "!pip install dglgo\n",
        "\n",
        "# 5. Verify installation\n",
        "import dgl\n",
        "from dgl import DGLGraph\n",
        "print(f\"DGL version: {dgl.__version__}\")\n",
        "\n",
        "# Try importing GraphConv\n",
        "from dgl.nn.pytorch import GraphConv"
      ],
      "metadata": {
        "id": "QItpk0yEaGS3"
      },
      "execution_count": null,
      "outputs": []
    },
    {
      "cell_type": "code",
      "source": [
        "# 1. First, let's fix the DGL utils.py file\n",
        "with open('/usr/local/lib/python3.13/site-packages/dgl/utils.py', 'r') as file:\n",
        "    content = file.read()\n",
        "\n",
        "# Replace the old import with the new one\n",
        "content = content.replace(\n",
        "    'from collections import Mapping, Iterable',\n",
        "    'from collections.abc import Mapping, Iterable'\n",
        ")\n",
        "\n",
        "# Write the fixed content back\n",
        "with open('/usr/local/lib/python3.13/site-packages/dgl/utils.py', 'w') as file:\n",
        "    file.write(content)"
      ],
      "metadata": {
        "id": "CVVLarNiaK3R"
      },
      "execution_count": null,
      "outputs": []
    },
    {
      "cell_type": "code",
      "source": [
        "# 1. Fix the DGL frame.py file\n",
        "with open('/usr/local/lib/python3.13/site-packages/dgl/frame.py', 'r') as file:\n",
        "    content = file.read()\n",
        "\n",
        "# Replace the old import with the new one\n",
        "content = content.replace(\n",
        "    'from collections import MutableMapping, namedtuple',\n",
        "    'from collections.abc import MutableMapping\\nfrom collections import namedtuple'\n",
        ")\n",
        "\n",
        "# Write the fixed content back\n",
        "with open('/usr/local/lib/python3.13/site-packages/dgl/frame.py', 'w') as file:\n",
        "    file.write(content)"
      ],
      "metadata": {
        "id": "0iy-uq3LrzSt"
      },
      "execution_count": null,
      "outputs": []
    },
    {
      "cell_type": "code",
      "source": [
        "# 1. Fix the DGL view.py file\n",
        "with open('/usr/local/lib/python3.13/site-packages/dgl/view.py', 'r') as file:\n",
        "    content = file.read()\n",
        "\n",
        "# Replace the old import with the new one\n",
        "content = content.replace(\n",
        "    'from collections import MutableMapping, namedtuple',\n",
        "    'from collections.abc import MutableMapping\\nfrom collections import namedtuple'\n",
        ")\n",
        "\n",
        "# Write the fixed content back\n",
        "with open('/usr/local/lib/python3.13/site-packages/dgl/view.py', 'w') as file:\n",
        "    file.write(content)\n",
        "\n",
        "# 2. Alternative way using sed\n",
        "!sed -i 's/from collections import MutableMapping, namedtuple/from collections.abc import MutableMapping\\nfrom collections import namedtuple/g' /usr/local/lib/python3.13/site-packages/dgl/view.py"
      ],
      "metadata": {
        "id": "vHWyDSHMsQl3"
      },
      "execution_count": null,
      "outputs": []
    },
    {
      "cell_type": "code",
      "source": [
        "# 1. Fix the DGL batched_graph.py file\n",
        "with open('/usr/local/lib/python3.13/site-packages/dgl/batched_graph.py', 'r') as file:\n",
        "    content = file.read()\n",
        "\n",
        "# Replace the old import with the new one\n",
        "content = content.replace(\n",
        "    'from collections import Iterable',\n",
        "    'from collections.abc import Iterable'\n",
        ")\n",
        "\n",
        "# Write the fixed content back\n",
        "with open('/usr/local/lib/python3.13/site-packages/dgl/batched_graph.py', 'w') as file:\n",
        "    file.write(content)\n",
        "\n",
        "# 2. Alternative way using sed\n",
        "!sed -i 's/from collections import Iterable/from collections.abc import Iterable/g' /usr/local/lib/python3.13/site-packages/dgl/batched_graph.py"
      ],
      "metadata": {
        "id": "cbVcSdMzs-4U"
      },
      "execution_count": null,
      "outputs": []
    },
    {
      "cell_type": "code",
      "source": [
        "# 1. First, uninstall current DGL\n",
        "!pip uninstall -y dgl dglgo\n",
        "\n",
        "# 2. Install miniforge to manage Python versions\n",
        "!wget -q https://github.com/conda-forge/miniforge/releases/latest/download/Miniforge3-Linux-x86_64.sh\n",
        "!chmod +x Miniforge3-Linux-x86_64.sh\n",
        "!bash ./Miniforge3-Linux-x86_64.sh -b -p /usr/local/miniforge3\n",
        "\n",
        "# 3. Create a new environment with Python 3.9 (known to work with DGL)\n",
        "!conda create -y -n atomrefine python=3.9\n",
        "!conda activate atomrefine\n",
        "\n",
        "# 4. Install PyTorch and DGL in the new environment\n",
        "!conda install -y pytorch cpuonly -c pytorch\n",
        "!conda install -y -c dglteam dgl\n",
        "\n",
        "# 5. Install DGL with neural network modules\n",
        "!pip install dgl[pytorch] -f https://data.dgl.ai/wheels/repo.html\n",
        "\n",
        "# 6. Verify installation\n",
        "import sys\n",
        "print(f\"Python version: {sys.version}\")\n",
        "import dgl\n",
        "from dgl.nn import GraphConv\n",
        "print(f\"DGL version: {dgl.__version__}\")"
      ],
      "metadata": {
        "id": "t5HSPvKmtUpZ"
      },
      "execution_count": null,
      "outputs": []
    },
    {
      "cell_type": "code",
      "source": [
        "# Alternative: Direct pip install with specific versions\n",
        "!pip install torch==1.13.1\n",
        "!pip install --no-deps dgl==1.1.1\n",
        "!pip install dglgo==0.0.2"
      ],
      "metadata": {
        "id": "Cdj1Cq6-wa6e"
      },
      "execution_count": null,
      "outputs": []
    },
    {
      "cell_type": "code",
      "source": [
        "# 1. Install Python 3.8\n",
        "!apt-get update\n",
        "!apt-get install -y python3.8 python3.8-venv\n",
        "\n",
        "# 2. Create a virtual environment with Python 3.8\n",
        "!python3.8 -m venv /content/atomrefine_env\n",
        "\n",
        "# 3. Activate the virtual environment and install dependencies\n",
        "!source /content/atomrefine_env/bin/activate && \\\n",
        "pip install torch==1.13.1+cpu -f https://download.pytorch.org/whl/cpu/torch_stable.html && \\\n",
        "pip install \"dgl==0.9.1\" -f https://data.dgl.ai/wheels/repo.html && \\\n",
        "pip install networkx scipy\n",
        "\n",
        "# 4. Verify the installation\n",
        "!source /content/atomrefine_env/bin/activate && \\\n",
        "python -c \"import sys; print(f'Python version: {sys.version}'); import dgl; from dgl.nn import GraphConv; print(f'DGL version: {dgl.__version__}')\""
      ],
      "metadata": {
        "id": "MlqlU13cyBHn"
      },
      "execution_count": null,
      "outputs": []
    },
    {
      "cell_type": "code",
      "source": [
        "!source /content/atomrefine_env/bin/activate"
      ],
      "metadata": {
        "id": "kEJYmR8yyCAH"
      },
      "execution_count": null,
      "outputs": []
    },
    {
      "cell_type": "code",
      "source": [
        "# 1. Download and install Miniconda\n",
        "!wget https://repo.anaconda.com/miniconda/Miniconda3-py38_23.11.0-2-Linux-x86_64.sh\n",
        "!bash Miniconda3-py38_23.11.0-2-Linux-x86_64.sh -b -f -p /usr/local/miniconda3\n",
        "!ln -s /usr/local/miniconda3/bin/conda /usr/local/bin/conda\n",
        "\n",
        "# 2. Initialize conda and create new environment\n",
        "!conda init\n",
        "!conda create -n atomrefine python=3.8 -y\n",
        "\n",
        "# 3. Install dependencies in the new environment\n",
        "!/usr/local/miniconda3/envs/atomrefine/bin/pip install torch==1.13.1+cpu -f https://download.pytorch.org/whl/cpu/torch_stable.html\n",
        "!/usr/local/miniconda3/envs/atomrefine/bin/pip install dgl==0.9.1 -f https://data.dgl.ai/wheels/repo.html\n",
        "!/usr/local/miniconda3/envs/atomrefine/bin/pip install networkx scipy biopython==1.78\n",
        "\n",
        "# 4. Activate the environment and verify installation\n",
        "!source /usr/local/miniconda3/bin/activate atomrefine && \\\n",
        "python -c \"import sys; print(f'Python version: {sys.version}'); import dgl; from dgl.nn import GraphConv; print(f'DGL version: {dgl.__version__}')\""
      ],
      "metadata": {
        "id": "WIMESvSoy19x"
      },
      "execution_count": null,
      "outputs": []
    },
    {
      "cell_type": "code",
      "source": [
        "conda activate atomrefine"
      ],
      "metadata": {
        "id": "cElQu-u1zVaE"
      },
      "execution_count": null,
      "outputs": []
    },
    {
      "cell_type": "code",
      "source": [
        "!source /usr/local/miniconda3/bin/activate atomrefine"
      ],
      "metadata": {
        "id": "sd8nwO7MzMta"
      },
      "execution_count": null,
      "outputs": []
    },
    {
      "cell_type": "code",
      "source": [
        "# 1. Install virtualenv\n",
        "!pip install virtualenv\n",
        "\n",
        "# 2. Create and activate a new virtual environment\n",
        "!python -m virtualenv /content/venv_atomrefine --python=python3.8\n",
        "!source /content/venv_atomrefine/bin/activate\n",
        "\n",
        "# 3. Install the required packages in the correct order\n",
        "!pip install torch==1.13.1+cpu -f https://download.pytorch.org/whl/cpu/torch_stable.html\n",
        "!pip install \"dgl==0.9.1\" -f https://data.dgl.ai/wheels/repo.html\n",
        "!pip install networkx scipy biopython==1.78\n",
        "\n",
        "# 4. Update Python path to use the virtual environment\n",
        "import sys\n",
        "sys.path.insert(0, '/content/venv_atomrefine/lib/python3.8/site-packages')\n",
        "\n",
        "# 5. Verify installation\n",
        "!python -c \"import sys; print(f'Python version: {sys.version}'); import dgl; from dgl.nn import GraphConv; print(f'DGL version: {dgl.__version__}')\""
      ],
      "metadata": {
        "id": "v0IHxmiIznQA"
      },
      "execution_count": null,
      "outputs": []
    },
    {
      "cell_type": "code",
      "source": [
        "# Alternative approach using direct pip install\n",
        "!pip install torch==1.13.1+cpu torchvision==0.14.1+cpu torchaudio==0.13.1 --extra-index-url https://download.pytorch.org/whl/cpu\n",
        "!pip install --no-deps dgl==0.9.1\n",
        "!pip install networkx scipy biopython==1.78"
      ],
      "metadata": {
        "id": "DjVq_7sQ0HsN"
      },
      "execution_count": null,
      "outputs": []
    },
    {
      "cell_type": "code",
      "source": [
        "# 1. First, let's fix all the collection imports in DGL\n",
        "import os\n",
        "\n",
        "dgl_files_to_fix = [\n",
        "    '/usr/local/lib/python3.13/site-packages/dgl/utils.py',\n",
        "    '/usr/local/lib/python3.13/site-packages/dgl/frame.py',\n",
        "    '/usr/local/lib/python3.13/site-packages/dgl/view.py',\n",
        "    '/usr/local/lib/python3.13/site-packages/dgl/batched_graph.py'\n",
        "]\n",
        "\n",
        "for file_path in dgl_files_to_fix:\n",
        "    if os.path.exists(file_path):\n",
        "        with open(file_path, 'r') as file:\n",
        "            content = file.read()\n",
        "\n",
        "        # Replace all problematic imports\n",
        "        replacements = [\n",
        "            ('from collections import Mapping, Iterable', 'from collections.abc import Mapping, Iterable'),\n",
        "            ('from collections import MutableMapping, Iterable', 'from collections.abc import MutableMapping, Iterable'),\n",
        "            ('from collections import MutableMapping, namedtuple', 'from collections.abc import MutableMapping\\nfrom collections import namedtuple'),\n",
        "            ('from collections import Iterable', 'from collections.abc import Iterable')\n",
        "        ]\n",
        "\n",
        "        for old, new in replacements:\n",
        "            content = content.replace(old, new)\n",
        "\n",
        "        with open(file_path, 'w') as file:\n",
        "            file.write(content)\n",
        "\n",
        "# 2. Now install PyTorch with a newer version that supports Python 3.13\n",
        "!pip install torch==2.7.0\n",
        "\n",
        "# 3. Install latest compatible DGL\n",
        "!pip install dgl==1.1.3 -f https://data.dgl.ai/wheels/repo.html\n",
        "\n",
        "# 4. Install other required dependencies\n",
        "!pip install networkx scipy biopython==1.78\n",
        "\n",
        "# 5. Verify installation\n",
        "import torch\n",
        "print(f\"PyTorch version: {torch.__version__}\")\n",
        "import dgl\n",
        "print(f\"DGL version: {dgl.__version__}\")"
      ],
      "metadata": {
        "id": "oR00c-mm0vlH"
      },
      "execution_count": null,
      "outputs": []
    },
    {
      "cell_type": "code",
      "source": [
        "# Fix the escape sequence in predict.py\n",
        "with open('/content/ATOMRefine/predict.py', 'r') as file:\n",
        "    content = file.read()\n",
        "content = content.replace('\\\"\\\\.pdb\\\"', '\"\\\\.pdb\"')  # Fix escape sequence\n",
        "with open('/content/ATOMRefine/predict.py', 'w') as file:\n",
        "    file.write(content)"
      ],
      "metadata": {
        "id": "eFs_44rm00aI"
      },
      "execution_count": null,
      "outputs": []
    },
    {
      "cell_type": "code",
      "source": [
        "# 1. First uninstall existing DGL\n",
        "!pip uninstall -y dgl dglgo\n",
        "\n",
        "# 2. Install PyTorch first (newer version compatible with Python 3.13)\n",
        "!pip install torch==2.7.0\n",
        "\n",
        "# 3. Install DGL with the neural network modules explicitly\n",
        "!pip install dgl[pytorch]==1.1.3\n",
        "!pip install dglgo\n",
        "\n",
        "# 4. Create a custom nn module with GraphConv if it's not available\n",
        "!cat > /usr/local/lib/python3.13/site-packages/dgl/nn/pytorch/conv/graphconv.py << 'EOL'\n",
        "import torch\n",
        "import torch.nn as nn\n",
        "from dgl import function as fn\n",
        "\n",
        "class GraphConv(nn.Module):\n",
        "    def __init__(self, in_feats, out_feats, norm='both', weight=True, bias=True,\n",
        "                 activation=None, allow_zero_in_degree=False):\n",
        "        super(GraphConv, self).__init__()\n",
        "        self._in_feats = in_feats\n",
        "        self._out_feats = out_feats\n",
        "        self._norm = norm\n",
        "        self._allow_zero_in_degree = allow_zero_in_degree\n",
        "\n",
        "        if weight:\n",
        "            self.weight = nn.Parameter(torch.Tensor(in_feats, out_feats))\n",
        "        else:\n",
        "            self.register_parameter('weight', None)\n",
        "\n",
        "        if bias:\n",
        "            self.bias = nn.Parameter(torch.Tensor(out_feats))\n",
        "        else:\n",
        "            self.register_parameter('bias', None)\n",
        "\n",
        "        self.reset_parameters()\n",
        "        self._activation = activation\n",
        "\n",
        "    def reset_parameters(self):\n",
        "        if self.weight is not None:\n",
        "            nn.init.xavier_uniform_(self.weight)\n",
        "        if self.bias is not None:\n",
        "            nn.init.zeros_(self.bias)\n",
        "\n",
        "    def forward(self, graph, feat):\n",
        "        with graph.local_scope():\n",
        "            if not self._allow_zero_in_degree:\n",
        "                if (graph.in_degrees() == 0).any():\n",
        "                    raise RuntimeError('Zero in-degree nodes detected')\n",
        "\n",
        "            if self._norm == 'both':\n",
        "                degs = graph.in_degrees().float().clamp(min=1)\n",
        "                norm = torch.pow(degs, -0.5)\n",
        "                feat = feat * norm.view(-1, 1)\n",
        "\n",
        "            if self.weight is not None:\n",
        "                feat = torch.matmul(feat, self.weight)\n",
        "\n",
        "            graph.ndata['h'] = feat\n",
        "            graph.update_all(fn.copy_u('h', 'm'), fn.sum('m', 'h'))\n",
        "            rst = graph.ndata['h']\n",
        "\n",
        "            if self._norm == 'both':\n",
        "                degs = graph.in_degrees().float().clamp(min=1)\n",
        "                norm = torch.pow(degs, -0.5)\n",
        "                rst = rst * norm.view(-1, 1)\n",
        "\n",
        "            if self.bias is not None:\n",
        "                rst = rst + self.bias\n",
        "\n",
        "            if self._activation is not None:\n",
        "                rst = self._activation(rst)\n",
        "\n",
        "            return rst\n",
        "EOL\n",
        "\n",
        "# 5. Create the __init__.py file to expose GraphConv\n",
        "!mkdir -p /usr/local/lib/python3.13/site-packages/dgl/nn/pytorch/conv\n",
        "!cat > /usr/local/lib/python3.13/site-packages/dgl/nn/pytorch/conv/__init__.py << 'EOL'\n",
        "from .graphconv import GraphConv\n",
        "__all__ = ['GraphConv']\n",
        "EOL\n",
        "\n",
        "# 6. Update the main nn __init__.py\n",
        "!cat > /usr/local/lib/python3.13/site-packages/dgl/nn/__init__.py << 'EOL'\n",
        "from .pytorch.conv import GraphConv\n",
        "__all__ = ['GraphConv']\n",
        "EOL\n",
        "\n",
        "# 7. Verify the installation\n",
        "!python -c \"import dgl; from dgl.nn import GraphConv; print('GraphConv imported successfully')\""
      ],
      "metadata": {
        "id": "3shPkOi21V_Q"
      },
      "execution_count": null,
      "outputs": []
    },
    {
      "cell_type": "code",
      "source": [
        "import os\n",
        "from Bio import PDB\n",
        "import shutil\n",
        "\n",
        "def setup_atomrefine(pdb_path):\n",
        "    \"\"\"Setup ATOMRefine environment and directories\"\"\"\n",
        "    # Move to ATOMRefine directory\n",
        "    os.chdir('/content/ATOMRefine')\n",
        "\n",
        "    # Create necessary directories\n",
        "    os.makedirs('example', exist_ok=True)\n",
        "    os.makedirs('output', exist_ok=True)\n",
        "\n",
        "    # Copy PDB file to example directory\n",
        "    target_pdb = os.path.join('example', os.path.basename(pdb_path))\n",
        "    shutil.copy(pdb_path, target_pdb)\n",
        "\n",
        "    return target_pdb\n",
        "\n",
        "def get_pdb_info(pdb_file):\n",
        "    \"\"\"Get sequence length and other info from PDB file\"\"\"\n",
        "    parser = PDB.PDBParser(QUIET=True)\n",
        "    structure = parser.get_structure('protein', pdb_file)\n",
        "\n",
        "    residue_count = 0\n",
        "    for model in structure:\n",
        "        for chain in model:\n",
        "            residue_count += len([r for r in chain if PDB.is_aa(r)])\n",
        "\n",
        "    return {\n",
        "        'seq_length': residue_count,\n",
        "        'filename': os.path.basename(pdb_file)\n",
        "    }\n",
        "\n",
        "def run_refinement(pdb_file):\n",
        "    \"\"\"Run ATOMRefine refinement process\"\"\"\n",
        "    # Setup ATOMRefine\n",
        "    target_pdb = setup_atomrefine(pdb_file)\n",
        "\n",
        "    # Get PDB info\n",
        "    info = get_pdb_info(target_pdb)\n",
        "    target_id = os.path.splitext(os.path.basename(pdb_file))[0]\n",
        "\n",
        "    print(\"ATOMRefine Setup:\")\n",
        "    print(f\"PDB File: {target_pdb}\")\n",
        "    print(f\"Sequence Length: {info['seq_length']}\")\n",
        "    print(f\"Target ID: {target_id}\")\n",
        "    print(f\"Output Directory: output/\")\n",
        "\n",
        "    # Run refinement\n",
        "    print(\"\\nStarting refinement...\")\n",
        "    !sh refine.sh {target_pdb} {target_id} {info['seq_length']} output\n",
        "\n",
        "    print(\"\\nRefinement complete! Check the output directory for results.\")\n",
        "\n",
        "# Main execution\n",
        "if __name__ == \"__main__\":\n",
        "    # Specify your uploaded PDB file path\n",
        "    pdb_file = \"/content/input/p37_IGV_SEPreplaced_pdbFH.pdb\"  # Change this to your PDB filename\n",
        "\n",
        "    if not os.path.exists(pdb_file):\n",
        "        print(f\"Error: PDB file {pdb_file} not found!\")\n",
        "    else:\n",
        "        run_refinement(pdb_file)"
      ],
      "metadata": {
        "id": "DfZMqCNkOTUh"
      },
      "execution_count": null,
      "outputs": []
    },
    {
      "cell_type": "code",
      "source": [
        "!pip install pytorch-lightning==2.0.1\n"
      ],
      "metadata": {
        "id": "NFp1hWXkSSgQ"
      },
      "execution_count": null,
      "outputs": []
    },
    {
      "cell_type": "code",
      "source": [
        "os.getcwd()"
      ],
      "metadata": {
        "id": "5y2X8xgvSrLS"
      },
      "execution_count": null,
      "outputs": []
    }
  ]
}